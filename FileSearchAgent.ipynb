{
 "cells": [
  {
   "cell_type": "markdown",
   "id": "d3c82045-6ee7-44c9-80b0-48be3cd1c1e4",
   "metadata": {},
   "source": [
    "## File Search with Programmatic Prompting"
   ]
  },
  {
   "cell_type": "code",
   "execution_count": 3,
   "id": "c82fda45-e2e6-4bcc-91a8-86062b52fa5c",
   "metadata": {},
   "outputs": [],
   "source": [
    "import os\n",
    "import litellm\n",
    "import json\n",
    "import subprocess\n",
    "from typing import List, Dict\n",
    "\n",
    "os.environ['LM_STUDIO_API_BASE'] = \"http://localhost:8090/v1\"\n",
    "os.environ['LM_STUDIO_API_KEY'] = \"lm_studio\""
   ]
  },
  {
   "cell_type": "code",
   "execution_count": 80,
   "id": "34c1310f-5956-49bf-ad24-8386c614ebe4",
   "metadata": {},
   "outputs": [],
   "source": [
    "def generate_response(messages: List[Dict]) -> str:\n",
    "    \"\"\"Call LLM to get response\"\"\"\n",
    "    response = litellm.completion(\n",
    "        model=\"lm_studio/meta-llama-3.1-8b-instruct\",\n",
    "        messages=messages,\n",
    "        max_tokens=1024\n",
    "    )\n",
    "    return response.choices[0].message.content\n",
    "\n",
    "agent_init = [\n",
    "    {\"role\": \"system\", \"content\": \"\"\"You are an intelligent AI agent that is capable of performing tasks with a given set of tools\n",
    "    The tools at your disposal are as follows:\n",
    "    1. list_files() : action=list files, args=\"None\"\n",
    "    2. change_dir(directory) : action=change directory, args=directory\n",
    "    3. read_file(file_name) : action=read file, args=file_name\n",
    "    4. terminate() : action=terminate, args=\"None\"\n",
    "    Every response must contain one action\n",
    "    Every response should be in json format: {\"action\": tool_name, \"args\": tool_args}\"}\n",
    "    Once the task is complete, use the terminate action\"\"\"}\n",
    "]"
   ]
  },
  {
   "cell_type": "code",
   "execution_count": 33,
   "id": "ac9ec7ab-87d6-405d-a3e8-0cb7c4f048a2",
   "metadata": {},
   "outputs": [
    {
     "name": "stdout",
     "output_type": "stream",
     "text": [
      "{\"action\": \"list_files\", \"args\": \"None\"}\n"
     ]
    }
   ],
   "source": [
    "messages = agent_init + [{\"role\": \"user\", \"content\": \"List files in the current directory\"}]\n",
    "response = generate_response(messages)\n",
    "print(response)"
   ]
  },
  {
   "cell_type": "code",
   "execution_count": 34,
   "id": "df533689-d440-4034-9379-a498cea0431b",
   "metadata": {},
   "outputs": [
    {
     "name": "stdout",
     "output_type": "stream",
     "text": [
      "Agent action: {'action': 'list_files', 'args': 'None'}\n"
     ]
    }
   ],
   "source": [
    "def parse_agent_response_for_action(response: str):\n",
    "    lines = response.split(\"\\n\")\n",
    "    for line in lines:\n",
    "        if \"{\\\"action\\\"\" in line:\n",
    "            agent_action = json.loads(line)\n",
    "            return agent_action\n",
    "\n",
    "agent_action = parse_agent_response_for_action(response)\n",
    "print(\"Agent action:\", agent_action)"
   ]
  },
  {
   "cell_type": "code",
   "execution_count": 83,
   "id": "51abb2e3-6da0-4d91-a74b-3aebf3cd7713",
   "metadata": {},
   "outputs": [
    {
     "data": {
      "text/plain": [
       "{'result': 'terminate'}"
      ]
     },
     "execution_count": 83,
     "metadata": {},
     "output_type": "execute_result"
    }
   ],
   "source": [
    "def execute_action(agent_action, directory):\n",
    "    if \"action\" not in agent_action or \"args\" not in agent_action:\n",
    "        return {\"result\": \"Use the provided JSON format to perform an action\"}\n",
    "    tool = agent_action[\"action\"]\n",
    "    arg = agent_action[\"args\"]\n",
    "    if tool == \"list_files\":\n",
    "        return {\"result\": subprocess.check_output(\"dir\" + (\" \" + directory if directory is not None else \"\"), shell=True, text=True)}\n",
    "    elif tool == \"change_dir\":\n",
    "        new_dir = subprocess.check_output(\"cd \" + arg + \" && cd\", shell=True, text=True).strip(\"\\n\")\n",
    "        return {\"result\": \"Changed directory to \" + arg, \"directory\": new_dir}\n",
    "    elif tool == \"read_file\":\n",
    "        file_content = subprocess.check_output(\"type \" + (directory + \"\\\\\" if directory is not None else \"\") + arg, shell=True, text=True)\n",
    "        print(file_content)\n",
    "        return {\"result\": \"File read!\"}   \n",
    "    elif tool == \"terminate\":\n",
    "        return {\"result\": \"terminate\"}\n",
    "    else:\n",
    "        return {\"result\": \"Invalid action\"}\n",
    "        \n",
    "execute_action({\"action\": \"terminate\", \"args\": \"\"}, None)"
   ]
  },
  {
   "cell_type": "code",
   "execution_count": 86,
   "id": "3f108866-ca49-47e0-a8a4-18d1195fbb15",
   "metadata": {},
   "outputs": [
    {
     "name": "stdout",
     "output_type": "stream",
     "text": [
      "User: Read the contents of files in the directory data\n",
      "Agent: Thinking.... directory= None\n",
      "Executing action  {'action': 'list_files', 'args': 'None'}\n",
      "----------------------------------------------------------------------------------------------------\n",
      "Agent: Thinking.... directory= None\n",
      "Executing action  {'action': 'list_files', 'args': 'None'}\n",
      "----------------------------------------------------------------------------------------------------\n",
      "Agent: Thinking.... directory= None\n",
      "Executing action  {'action': 'list_files', 'args': 'None'}\n",
      "----------------------------------------------------------------------------------------------------\n",
      "Agent: Thinking.... directory= None\n",
      "Executing action  {'action': 'change_dir', 'args': 'data'}\n",
      "----------------------------------------------------------------------------------------------------\n",
      "Agent: Thinking.... directory= C:\\Work\\main\\Courses\\AgenticAIWithPython\\Module1\\LLMAgents\\data\n",
      "Executing action  {'action': 'list_files', 'args': 'None'}\n",
      "----------------------------------------------------------------------------------------------------\n",
      "Agent: Thinking.... directory= C:\\Work\\main\\Courses\\AgenticAIWithPython\\Module1\\LLMAgents\\data\n",
      "Executing action  {'action': 'read_file', 'args': 'dummy.txt'}\n",
      "----------------------------------------------------------------------------------------------------\n",
      "Agent: Thinking.... directory= C:\\Work\\main\\Courses\\AgenticAIWithPython\\Module1\\LLMAgents\\data\n",
      "Executing action  {'action': 'terminate', 'args': 'None'}\n",
      "Agent: I'm done!\n"
     ]
    }
   ],
   "source": [
    "user_instruction = \"Read the contents of files in the directory data\"\n",
    "print(\"User:\", user_instruction)\n",
    "\n",
    "memory = agent_init + [{\"role\": \"user\", \"content\": user_instruction}]\n",
    "directory = None\n",
    "while True:\n",
    "    print(\"Agent: Thinking.... directory=\", directory)\n",
    "\n",
    "    response = generate_response(memory)\n",
    "    agent_action = parse_agent_response_for_action(response)\n",
    "    print(\"Executing action \", agent_action)\n",
    "    output = execute_action(agent_action, directory)\n",
    "\n",
    "    if \"directory\" in output.keys():\n",
    "        directory = output[\"directory\"]\n",
    "    if output[\"result\"] == \"terminate\":\n",
    "        print(\"Agent: I'm done!\")\n",
    "        break\n",
    "    \n",
    "    memory += [{\"role\": \"assistant\", \"content\": response}, {\"role\": \"user\", \"content\": output[\"result\"]}]\n",
    "    print(\"-\"*100)"
   ]
  }
 ],
 "metadata": {
  "kernelspec": {
   "display_name": "Python 3 (ipykernel)",
   "language": "python",
   "name": "python3"
  },
  "language_info": {
   "codemirror_mode": {
    "name": "ipython",
    "version": 3
   },
   "file_extension": ".py",
   "mimetype": "text/x-python",
   "name": "python",
   "nbconvert_exporter": "python",
   "pygments_lexer": "ipython3",
   "version": "3.13.3"
  }
 },
 "nbformat": 4,
 "nbformat_minor": 5
}
